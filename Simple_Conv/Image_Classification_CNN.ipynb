{
 "cells": [
  {
   "cell_type": "markdown",
   "metadata": {
    "id": "XsrcohGwVhLJ"
   },
   "source": [
    "<h1 style=\"text-align: center\">\n",
    "Deep Learning HW2 </br> \n",
    "Image Classification\n",
    "</h1>"
   ]
  },
  {
   "cell_type": "markdown",
   "metadata": {
    "id": "MLmC7lVpRx8y"
   },
   "source": [
    "### Full Name: Alireza Heidari\n",
    "### Student ID: -"
   ]
  },
  {
   "cell_type": "markdown",
   "metadata": {
    "id": "atGYO6DvK5NU",
    "papermill": {
     "duration": 0.022376,
     "end_time": "2020-11-06T00:15:34.434234",
     "exception": false,
     "start_time": "2020-11-06T00:15:34.411858",
     "status": "completed"
    },
    "tags": []
   },
   "source": [
    "## Import needed libraries\n"
   ]
  },
  {
   "cell_type": "code",
   "execution_count": 3,
   "metadata": {
    "execution": {
     "iopub.execute_input": "2020-11-06T00:15:34.484628Z",
     "iopub.status.busy": "2020-11-06T00:15:34.483829Z",
     "iopub.status.idle": "2020-11-06T00:15:35.592124Z",
     "shell.execute_reply": "2020-11-06T00:15:35.591266Z"
    },
    "id": "dIjCFmM1K5NX",
    "papermill": {
     "duration": 1.135699,
     "end_time": "2020-11-06T00:15:35.592273",
     "exception": false,
     "start_time": "2020-11-06T00:15:34.456574",
     "status": "completed"
    },
    "tags": []
   },
   "outputs": [],
   "source": [
    "import numpy as np\n",
    "import matplotlib.pyplot as plt\n",
    "import seaborn as sns\n",
    "import torch\n",
    "import torchvision\n",
    "import torchvision.transforms as transforms\n",
    "from torch.utils.data import random_split\n",
    "from torch.utils.data.dataloader import DataLoader\n",
    "from torch import nn\n",
    "from tqdm import tqdm\n",
    "from sklearn.metrics import classification_report"
   ]
  },
  {
   "cell_type": "markdown",
   "metadata": {
    "id": "_ih2AD9ie1MX"
   },
   "source": [
    "## Loading and Pre-Processing data"
   ]
  },
  {
   "cell_type": "code",
   "execution_count": 4,
   "metadata": {
    "id": "uaZtkgKAe2LN"
   },
   "outputs": [],
   "source": [
    "transform = transforms.Compose([\n",
    "    transforms.ToTensor(),\n",
    "    transforms.Normalize(mean=(0.5,), std=(0.5,))\n",
    "])\n",
    "\n",
    "train_set = torchvision.datasets.FashionMNIST(root='./data', train=True, download=True, transform=transform)\n",
    "test_set = torchvision.datasets.FashionMNIST(root='./data', train=False, download=True, transform=transform)"
   ]
  },
  {
   "cell_type": "code",
   "execution_count": 5,
   "metadata": {
    "id": "CsktV4w-e64U"
   },
   "outputs": [],
   "source": [
    "train_size = 48000\n",
    "val_size = 60000 - train_size\n",
    "train_ds,val_ds = random_split(train_set, [train_size, val_size])"
   ]
  },
  {
   "cell_type": "code",
   "execution_count": 6,
   "metadata": {
    "id": "cRIhgkNPe-rW"
   },
   "outputs": [],
   "source": [
    "train_dataloader = DataLoader(train_ds, batch_size=64, shuffle=True)\n",
    "val_dataloader = DataLoader(val_ds, batch_size=64, shuffle=True)\n",
    "test_dataloader = DataLoader(test_set, batch_size=64, shuffle=True)\n",
    "classes = train_set.classes"
   ]
  },
  {
   "cell_type": "markdown",
   "metadata": {
    "id": "MVqdLxDd8O5o"
   },
   "source": [
    "**Display some images from dataset**"
   ]
  },
  {
   "cell_type": "code",
   "execution_count": 7,
   "metadata": {
    "colab": {
     "base_uri": "https://localhost:8080/",
     "height": 154
    },
    "id": "LnhmcZP9e62N",
    "outputId": "2b5b548b-3bd9-4af4-aa27-1ba0cf0f4c4e"
   },
   "outputs": [
    {
     "data": {
      "image/png": "[encoded data removed]",
      "text/plain": [
       "<Figure size 720x576 with 6 Axes>"
      ]
     },
     "metadata": {},
     "output_type": "display_data"
    }
   ],
   "source": [
    "# get some random training images\n",
    "dataiter = iter(train_dataloader)\n",
    "images, labels = next(dataiter)\n",
    "fig, axes = plt.subplots(nrows=1, ncols=6, figsize=(10, 8), subplot_kw={'xticks': [], 'yticks': []})\n",
    "for i,ax in zip(range(0,6),axes.flat):\n",
    "    img,label=images[i],labels[i]\n",
    "    ax.imshow(img.permute(1, 2, 0))\n",
    "    ax.set_title(f\"Label: {classes[label]}\")\n",
    "\n",
    "plt.tight_layout()\n",
    "plt.show()"
   ]
  },
  {
   "cell_type": "markdown",
   "metadata": {
    "id": "T7RMnLBSK5Nc",
    "papermill": {
     "duration": 0.025997,
     "end_time": "2020-11-06T00:15:44.018664",
     "exception": false,
     "start_time": "2020-11-06T00:15:43.992667",
     "status": "completed"
    },
    "tags": []
   },
   "source": [
    "# Defining the Convolutional Neural Network"
   ]
  },
  {
   "cell_type": "markdown",
   "metadata": {
    "id": "If6yxMmoqxDN"
   },
   "source": [
    "<img src='https://drive.google.com/uc?id=1Euy5_bGIiiYECSZUeEofgTImJWgQ0XLf'>"
   ]
  },
  {
   "cell_type": "markdown",
   "metadata": {
    "id": "F_UOoVg8tjwT"
   },
   "source": [
    "**<h2>Implement the model above in pytorch</h2>**"
   ]
  },
  {
   "cell_type": "code",
   "execution_count": 122,
   "metadata": {
    "id": "5d4iYGy6cwgZ"
   },
   "outputs": [],
   "source": [
    "import torch.nn as nn\n",
    "import torch.nn.functional as F\n",
    "\n",
    "#define the CNN architecture below\n",
    "class Net(nn.Module):\n",
    "    def __init__(self):\n",
    "        super(Net, self).__init__()\n",
    "        self.conv_layer_1 = nn.Sequential(\n",
    "            nn.Conv2d(1, 32, kernel_size=(3, 3), padding=1),\n",
    "            nn.BatchNorm2d(32),\n",
    "            nn.ReLU(),\n",
    "            nn.MaxPool2d(kernel_size=2, stride=2),\n",
    "        )\n",
    "        self.conv_layer_2 = nn.Sequential(\n",
    "            nn.Conv2d(32, 64, kernel_size=(3, 3), padding=0),\n",
    "            nn.BatchNorm2d(64),\n",
    "            nn.ReLU(),\n",
    "            nn.MaxPool2d(kernel_size=2, stride=2),\n",
    "        )\n",
    "      \n",
    "        self.fc_1 = nn.Sequential(\n",
    "            nn.Linear(64*6*6, 600),\n",
    "            nn.ReLU(),\n",
    "        )\n",
    "        self.fc_2 = nn.Sequential(\n",
    "            nn.Linear(600, 120),\n",
    "            nn.ReLU(),\n",
    "        )\n",
    "        self.fc_3 = nn.Sequential(\n",
    "            nn.Linear(120, 10),\n",
    "            nn.Softmax(dim=1)\n",
    "        )\n",
    "        \n",
    "        \n",
    "    def forward(self, x):\n",
    "        x = self.conv_layer_1(x)\n",
    "        x = self.conv_layer_2(x)\n",
    "\n",
    "        x = x.view(x.size(0), -1)\n",
    "\n",
    "        x = self.fc_1(x)\n",
    "        x = self.fc_2(x)\n",
    "        out = self.fc_3(x)\n",
    "        return out"
   ]
  },
  {
   "cell_type": "code",
   "execution_count": 123,
   "metadata": {
    "id": "450scXnLLDSl"
   },
   "outputs": [],
   "source": [
    "# Using GPU if it's available\n",
    "device = torch.device('cuda' if torch.cuda.is_available() else 'cpu')"
   ]
  },
  {
   "cell_type": "code",
   "execution_count": 124,
   "metadata": {
    "colab": {
     "base_uri": "https://localhost:8080/"
    },
    "id": "mPP8CaHv684n",
    "outputId": "5b6a88d5-3327-4964-85d9-84d26560d3c7"
   },
   "outputs": [
    {
     "data": {
      "text/plain": [
       "Net(\n",
       "  (conv_layer_1): Sequential(\n",
       "    (0): Conv2d(1, 32, kernel_size=(3, 3), stride=(1, 1), padding=(1, 1))\n",
       "    (1): BatchNorm2d(32, eps=1e-05, momentum=0.1, affine=True, track_running_stats=True)\n",
       "    (2): ReLU()\n",
       "    (3): MaxPool2d(kernel_size=2, stride=2, padding=0, dilation=1, ceil_mode=False)\n",
       "  )\n",
       "  (conv_layer_2): Sequential(\n",
       "    (0): Conv2d(32, 64, kernel_size=(3, 3), stride=(1, 1))\n",
       "    (1): BatchNorm2d(64, eps=1e-05, momentum=0.1, affine=True, track_running_stats=True)\n",
       "    (2): ReLU()\n",
       "    (3): MaxPool2d(kernel_size=2, stride=2, padding=0, dilation=1, ceil_mode=False)\n",
       "  )\n",
       "  (fc_1): Sequential(\n",
       "    (0): Linear(in_features=2304, out_features=600, bias=True)\n",
       "    (1): ReLU()\n",
       "  )\n",
       "  (fc_2): Sequential(\n",
       "    (0): Linear(in_features=600, out_features=120, bias=True)\n",
       "    (1): ReLU()\n",
       "  )\n",
       "  (fc_3): Sequential(\n",
       "    (0): Linear(in_features=120, out_features=10, bias=True)\n",
       "    (1): Softmax(dim=1)\n",
       "  )\n",
       ")"
      ]
     },
     "execution_count": 124,
     "metadata": {},
     "output_type": "execute_result"
    }
   ],
   "source": [
    "cnn_model = Net()\n",
    "cnn_model.to(device)"
   ]
  },
  {
   "cell_type": "markdown",
   "metadata": {
    "id": "NJ0Xr7KfK5Ne",
    "papermill": {
     "duration": 0.026597,
     "end_time": "2020-11-06T00:15:44.148554",
     "exception": false,
     "start_time": "2020-11-06T00:15:44.121957",
     "status": "completed"
    },
    "tags": []
   },
   "source": [
    "# Defining Loss Function and optimizer\n",
    "**Define appropriate Loss Function, Optimizer and Learning Rate**"
   ]
  },
  {
   "cell_type": "code",
   "execution_count": 125,
   "metadata": {
    "execution": {
     "iopub.execute_input": "2020-11-06T00:15:44.209323Z",
     "iopub.status.busy": "2020-11-06T00:15:44.208462Z",
     "iopub.status.idle": "2020-11-06T00:15:44.211159Z",
     "shell.execute_reply": "2020-11-06T00:15:44.211695Z"
    },
    "id": "aAhczTtRK5Nf",
    "papermill": {
     "duration": 0.036545,
     "end_time": "2020-11-06T00:15:44.211856",
     "exception": false,
     "start_time": "2020-11-06T00:15:44.175311",
     "status": "completed"
    },
    "tags": []
   },
   "outputs": [],
   "source": [
    "import torch.optim as optim\n",
    "\n",
    "Learning_rate= 0.0001\n",
    "criterion = nn.CrossEntropyLoss()\n",
    "optimizer = optim.Adam(cnn_model.parameters(), lr=Learning_rate)"
   ]
  },
  {
   "cell_type": "markdown",
   "metadata": {
    "id": "MTs7zqIuT6bI"
   },
   "source": [
    "**Define number of epochs and path to save the best model**"
   ]
  },
  {
   "cell_type": "code",
   "execution_count": 126,
   "metadata": {
    "id": "TIl4qh6gT68p"
   },
   "outputs": [],
   "source": [
    "epochs = 50\n",
    "save_path=\"/content/cnn_model\""
   ]
  },
  {
   "cell_type": "markdown",
   "metadata": {
    "id": "oE5cyPw3K5Ng",
    "papermill": {
     "duration": 0.026206,
     "end_time": "2020-11-06T00:15:44.264708",
     "exception": false,
     "start_time": "2020-11-06T00:15:44.238502",
     "status": "completed"
    },
    "tags": []
   },
   "source": [
    "# Finally we will train our neural network"
   ]
  },
  {
   "cell_type": "code",
   "execution_count": 127,
   "metadata": {
    "id": "2czjHpINLO7A"
   },
   "outputs": [],
   "source": [
    "# multiclass accuracy\n",
    "def multi_acc(y_pred, y_test):\n",
    "    _, y_pred_tags = torch.max(y_pred, dim = 1)    \n",
    "    correct_pred = (y_pred_tags == y_test).float()\n",
    "    acc = correct_pred.sum() / len(correct_pred)\n",
    "    acc = torch.round(acc * 100)\n",
    "    return acc"
   ]
  },
  {
   "cell_type": "markdown",
   "metadata": {
    "id": "-0JhvfcNYGwI"
   },
   "source": [
    "**Implementing the training algorithm and Saving the model with minimum Validation Loss**"
   ]
  },
  {
   "cell_type": "code",
   "execution_count": 128,
   "metadata": {
    "id": "Dhs9WLSeNA-6"
   },
   "outputs": [],
   "source": [
    "# training loop\n",
    "def train_model(model, train_dataloader, val_dataloader, n_epochs, optimizer, criterion, device, save_path):\n",
    "    train_losses = []\n",
    "    val_losses = []\n",
    "    valid_loss_min = np.Inf \n",
    "\n",
    "    for epoch in range(n_epochs):\n",
    "        model.train()\n",
    "        with tqdm(train_dataloader, unit=\"batch\") as batches:\n",
    "            epoch_loss = 0\n",
    "            for data, target in batches:\n",
    "                batches.set_description(f\"Epoch {epoch + 1}\")\n",
    "                # move to GPU\n",
    "                data = data.to(device)\n",
    "                target = target.to(device)\n",
    "\n",
    "                # train \n",
    "                optimizer.zero_grad()\n",
    "\n",
    "                out = cnn_model(data)\n",
    "                loss = criterion(out, target)\n",
    "                \n",
    "                loss.backward()\n",
    "                optimizer.step()\n",
    "\n",
    "                epoch_loss += loss * data.size(0)\n",
    "                acc = multi_acc(out, target)\n",
    "                batches.set_postfix(train_loss = loss.item(), train_accuracy = acc.item()) # show loss and accuracy per batch of data\n",
    "\n",
    "            epoch_loss /= len(train_dataloader.dataset)\n",
    "\n",
    "        train_losses.append(float(epoch_loss.to('cpu')))\n",
    "\n",
    "\n",
    "        model.eval()\n",
    "        valid_loss = 0.0\n",
    "        with torch.no_grad():\n",
    "            y_true, y_pred = [], []\n",
    "            for batch_idx, (data, target) in enumerate(val_dataloader):\n",
    "                # move to GPU\n",
    "                data = data.to(device)\n",
    "                target = target.to(device)\n",
    "        \n",
    "                # validation\n",
    "                out = model(data)\n",
    "                valid_loss += criterion(out, target) * data.size(0)\n",
    "\n",
    "            valid_loss /= len(val_dataloader.dataset)\n",
    "        val_losses.append(float(valid_loss.to(\"cpu\")))\n",
    "        \n",
    "        # print validation statistics \n",
    "        print('Epoch: {}  Validation Loss: {:.6f}'.format(epoch+1, valid_loss))\n",
    "\n",
    "        ## If the valiation loss has decreased, then saving the model\n",
    "        if valid_loss <= valid_loss_min:\n",
    "            print('Validation loss decreased ({:.6f} --> {:.6f}).  Saving model ...'.format(\n",
    "            valid_loss_min,\n",
    "            valid_loss))\n",
    "            torch.save(model.state_dict(), save_path)\n",
    "            valid_loss_min = valid_loss \n",
    "\n",
    "    return model, train_losses, val_losses"
   ]
  },
  {
   "cell_type": "markdown",
   "metadata": {
    "id": "Iz5KwJJ61LAI"
   },
   "source": [
    "**Train the model**"
   ]
  },
  {
   "cell_type": "code",
   "execution_count": 129,
   "metadata": {
    "colab": {
     "base_uri": "https://localhost:8080/"
    },
    "id": "xfSGwRGHSRbP",
    "outputId": "dc98c0c6-df2e-4087-a4c8-5cea34607e67"
   },
   "outputs": [
    {
     "name": "stderr",
     "output_type": "stream",
     "text": [
      "Epoch 1: 100%|██████████| 750/750 [00:20<00:00, 36.86batch/s, train_accuracy=86, train_loss=1.63]\n"
     ]
    },
    {
     "name": "stdout",
     "output_type": "stream",
     "text": [
      "Epoch: 1  Validation Loss: 1.600240\n",
      "Validation loss decreased (inf --> 1.600240).  Saving model ...\n"
     ]
    },
    {
     "name": "stderr",
     "output_type": "stream",
     "text": [
      "Epoch 2: 100%|██████████| 750/750 [00:20<00:00, 37.14batch/s, train_accuracy=95, train_loss=1.54]\n"
     ]
    },
    {
     "name": "stdout",
     "output_type": "stream",
     "text": [
      "Epoch: 2  Validation Loss: 1.581686\n",
      "Validation loss decreased (1.600240 --> 1.581686).  Saving model ...\n"
     ]
    },
    {
     "name": "stderr",
     "output_type": "stream",
     "text": [
      "Epoch 3: 100%|██████████| 750/750 [00:21<00:00, 35.39batch/s, train_accuracy=86, train_loss=1.61]\n"
     ]
    },
    {
     "name": "stdout",
     "output_type": "stream",
     "text": [
      "Epoch: 3  Validation Loss: 1.578881\n",
      "Validation loss decreased (1.581686 --> 1.578881).  Saving model ...\n"
     ]
    },
    {
     "name": "stderr",
     "output_type": "stream",
     "text": [
      "Epoch 4: 100%|██████████| 750/750 [00:20<00:00, 36.23batch/s, train_accuracy=98, train_loss=1.49]\n"
     ]
    },
    {
     "name": "stdout",
     "output_type": "stream",
     "text": [
      "Epoch: 4  Validation Loss: 1.573143\n",
      "Validation loss decreased (1.578881 --> 1.573143).  Saving model ...\n"
     ]
    },
    {
     "name": "stderr",
     "output_type": "stream",
     "text": [
      "Epoch 5: 100%|██████████| 750/750 [00:19<00:00, 37.79batch/s, train_accuracy=86, train_loss=1.6]\n"
     ]
    },
    {
     "name": "stdout",
     "output_type": "stream",
     "text": [
      "Epoch: 5  Validation Loss: 1.563423\n",
      "Validation loss decreased (1.573143 --> 1.563423).  Saving model ...\n"
     ]
    },
    {
     "name": "stderr",
     "output_type": "stream",
     "text": [
      "Epoch 6: 100%|██████████| 750/750 [00:20<00:00, 37.11batch/s, train_accuracy=95, train_loss=1.51]\n"
     ]
    },
    {
     "name": "stdout",
     "output_type": "stream",
     "text": [
      "Epoch: 6  Validation Loss: 1.565043\n"
     ]
    },
    {
     "name": "stderr",
     "output_type": "stream",
     "text": [
      "Epoch 7: 100%|██████████| 750/750 [00:20<00:00, 37.38batch/s, train_accuracy=84, train_loss=1.62]\n"
     ]
    },
    {
     "name": "stdout",
     "output_type": "stream",
     "text": [
      "Epoch: 7  Validation Loss: 1.561176\n",
      "Validation loss decreased (1.563423 --> 1.561176).  Saving model ...\n"
     ]
    },
    {
     "name": "stderr",
     "output_type": "stream",
     "text": [
      "Epoch 8: 100%|██████████| 750/750 [00:20<00:00, 37.06batch/s, train_accuracy=89, train_loss=1.57]\n"
     ]
    },
    {
     "name": "stdout",
     "output_type": "stream",
     "text": [
      "Epoch: 8  Validation Loss: 1.562761\n"
     ]
    },
    {
     "name": "stderr",
     "output_type": "stream",
     "text": [
      "Epoch 9: 100%|██████████| 750/750 [00:20<00:00, 36.98batch/s, train_accuracy=94, train_loss=1.52]\n"
     ]
    },
    {
     "name": "stdout",
     "output_type": "stream",
     "text": [
      "Epoch: 9  Validation Loss: 1.558345\n",
      "Validation loss decreased (1.561176 --> 1.558345).  Saving model ...\n"
     ]
    },
    {
     "name": "stderr",
     "output_type": "stream",
     "text": [
      "Epoch 10: 100%|██████████| 750/750 [00:20<00:00, 37.43batch/s, train_accuracy=89, train_loss=1.57]\n"
     ]
    },
    {
     "name": "stdout",
     "output_type": "stream",
     "text": [
      "Epoch: 10  Validation Loss: 1.556664\n",
      "Validation loss decreased (1.558345 --> 1.556664).  Saving model ...\n"
     ]
    },
    {
     "name": "stderr",
     "output_type": "stream",
     "text": [
      "Epoch 11: 100%|██████████| 750/750 [00:20<00:00, 36.70batch/s, train_accuracy=97, train_loss=1.5]\n"
     ]
    },
    {
     "name": "stdout",
     "output_type": "stream",
     "text": [
      "Epoch: 11  Validation Loss: 1.553063\n",
      "Validation loss decreased (1.556664 --> 1.553063).  Saving model ...\n"
     ]
    },
    {
     "name": "stderr",
     "output_type": "stream",
     "text": [
      "Epoch 12: 100%|██████████| 750/750 [00:19<00:00, 38.23batch/s, train_accuracy=92, train_loss=1.55]\n"
     ]
    },
    {
     "name": "stdout",
     "output_type": "stream",
     "text": [
      "Epoch: 12  Validation Loss: 1.555706\n"
     ]
    },
    {
     "name": "stderr",
     "output_type": "stream",
     "text": [
      "Epoch 13: 100%|██████████| 750/750 [00:20<00:00, 37.22batch/s, train_accuracy=92, train_loss=1.54]\n"
     ]
    },
    {
     "name": "stdout",
     "output_type": "stream",
     "text": [
      "Epoch: 13  Validation Loss: 1.548372\n",
      "Validation loss decreased (1.553063 --> 1.548372).  Saving model ...\n"
     ]
    },
    {
     "name": "stderr",
     "output_type": "stream",
     "text": [
      "Epoch 14: 100%|██████████| 750/750 [00:20<00:00, 37.08batch/s, train_accuracy=95, train_loss=1.52]\n"
     ]
    },
    {
     "name": "stdout",
     "output_type": "stream",
     "text": [
      "Epoch: 14  Validation Loss: 1.549554\n"
     ]
    },
    {
     "name": "stderr",
     "output_type": "stream",
     "text": [
      "Epoch 15: 100%|██████████| 750/750 [00:20<00:00, 37.26batch/s, train_accuracy=94, train_loss=1.53]\n"
     ]
    },
    {
     "name": "stdout",
     "output_type": "stream",
     "text": [
      "Epoch: 15  Validation Loss: 1.551937\n"
     ]
    },
    {
     "name": "stderr",
     "output_type": "stream",
     "text": [
      "Epoch 16: 100%|██████████| 750/750 [00:19<00:00, 38.15batch/s, train_accuracy=91, train_loss=1.55]\n"
     ]
    },
    {
     "name": "stdout",
     "output_type": "stream",
     "text": [
      "Epoch: 16  Validation Loss: 1.548682\n"
     ]
    },
    {
     "name": "stderr",
     "output_type": "stream",
     "text": [
      "Epoch 17: 100%|██████████| 750/750 [00:19<00:00, 37.84batch/s, train_accuracy=98, train_loss=1.49]\n"
     ]
    },
    {
     "name": "stdout",
     "output_type": "stream",
     "text": [
      "Epoch: 17  Validation Loss: 1.546733\n",
      "Validation loss decreased (1.548372 --> 1.546733).  Saving model ...\n"
     ]
    },
    {
     "name": "stderr",
     "output_type": "stream",
     "text": [
      "Epoch 18: 100%|██████████| 750/750 [00:19<00:00, 37.73batch/s, train_accuracy=95, train_loss=1.51]\n"
     ]
    },
    {
     "name": "stdout",
     "output_type": "stream",
     "text": [
      "Epoch: 18  Validation Loss: 1.548546\n"
     ]
    },
    {
     "name": "stderr",
     "output_type": "stream",
     "text": [
      "Epoch 19: 100%|██████████| 750/750 [00:20<00:00, 37.26batch/s, train_accuracy=97, train_loss=1.5]\n"
     ]
    },
    {
     "name": "stdout",
     "output_type": "stream",
     "text": [
      "Epoch: 19  Validation Loss: 1.549087\n"
     ]
    },
    {
     "name": "stderr",
     "output_type": "stream",
     "text": [
      "Epoch 20: 100%|██████████| 750/750 [00:20<00:00, 35.72batch/s, train_accuracy=92, train_loss=1.54]\n"
     ]
    },
    {
     "name": "stdout",
     "output_type": "stream",
     "text": [
      "Epoch: 20  Validation Loss: 1.545711\n",
      "Validation loss decreased (1.546733 --> 1.545711).  Saving model ...\n"
     ]
    },
    {
     "name": "stderr",
     "output_type": "stream",
     "text": [
      "Epoch 21: 100%|██████████| 750/750 [00:20<00:00, 37.47batch/s, train_accuracy=95, train_loss=1.49]\n"
     ]
    },
    {
     "name": "stdout",
     "output_type": "stream",
     "text": [
      "Epoch: 21  Validation Loss: 1.550338\n"
     ]
    },
    {
     "name": "stderr",
     "output_type": "stream",
     "text": [
      "Epoch 22: 100%|██████████| 750/750 [00:19<00:00, 37.87batch/s, train_accuracy=97, train_loss=1.5]\n"
     ]
    },
    {
     "name": "stdout",
     "output_type": "stream",
     "text": [
      "Epoch: 22  Validation Loss: 1.548434\n"
     ]
    },
    {
     "name": "stderr",
     "output_type": "stream",
     "text": [
      "Epoch 23: 100%|██████████| 750/750 [00:19<00:00, 37.62batch/s, train_accuracy=92, train_loss=1.55]\n"
     ]
    },
    {
     "name": "stdout",
     "output_type": "stream",
     "text": [
      "Epoch: 23  Validation Loss: 1.550112\n"
     ]
    },
    {
     "name": "stderr",
     "output_type": "stream",
     "text": [
      "Epoch 24: 100%|██████████| 750/750 [00:20<00:00, 36.59batch/s, train_accuracy=95, train_loss=1.51]\n"
     ]
    },
    {
     "name": "stdout",
     "output_type": "stream",
     "text": [
      "Epoch: 24  Validation Loss: 1.548624\n"
     ]
    },
    {
     "name": "stderr",
     "output_type": "stream",
     "text": [
      "Epoch 25: 100%|██████████| 750/750 [00:20<00:00, 36.71batch/s, train_accuracy=97, train_loss=1.49]\n"
     ]
    },
    {
     "name": "stdout",
     "output_type": "stream",
     "text": [
      "Epoch: 25  Validation Loss: 1.549341\n"
     ]
    },
    {
     "name": "stderr",
     "output_type": "stream",
     "text": [
      "Epoch 26: 100%|██████████| 750/750 [00:21<00:00, 35.08batch/s, train_accuracy=100, train_loss=1.46]\n"
     ]
    },
    {
     "name": "stdout",
     "output_type": "stream",
     "text": [
      "Epoch: 26  Validation Loss: 1.544588\n",
      "Validation loss decreased (1.545711 --> 1.544588).  Saving model ...\n"
     ]
    },
    {
     "name": "stderr",
     "output_type": "stream",
     "text": [
      "Epoch 27: 100%|██████████| 750/750 [00:20<00:00, 36.79batch/s, train_accuracy=98, train_loss=1.48]\n"
     ]
    },
    {
     "name": "stdout",
     "output_type": "stream",
     "text": [
      "Epoch: 27  Validation Loss: 1.546611\n"
     ]
    },
    {
     "name": "stderr",
     "output_type": "stream",
     "text": [
      "Epoch 28: 100%|██████████| 750/750 [00:19<00:00, 37.57batch/s, train_accuracy=94, train_loss=1.52]\n"
     ]
    },
    {
     "name": "stdout",
     "output_type": "stream",
     "text": [
      "Epoch: 28  Validation Loss: 1.544405\n",
      "Validation loss decreased (1.544588 --> 1.544405).  Saving model ...\n"
     ]
    },
    {
     "name": "stderr",
     "output_type": "stream",
     "text": [
      "Epoch 29: 100%|██████████| 750/750 [00:19<00:00, 37.96batch/s, train_accuracy=97, train_loss=1.49]\n"
     ]
    },
    {
     "name": "stdout",
     "output_type": "stream",
     "text": [
      "Epoch: 29  Validation Loss: 1.547865\n"
     ]
    },
    {
     "name": "stderr",
     "output_type": "stream",
     "text": [
      "Epoch 30: 100%|██████████| 750/750 [00:20<00:00, 36.32batch/s, train_accuracy=92, train_loss=1.53]\n"
     ]
    },
    {
     "name": "stdout",
     "output_type": "stream",
     "text": [
      "Epoch: 30  Validation Loss: 1.546378\n"
     ]
    },
    {
     "name": "stderr",
     "output_type": "stream",
     "text": [
      "Epoch 31: 100%|██████████| 750/750 [00:20<00:00, 36.73batch/s, train_accuracy=98, train_loss=1.48]\n"
     ]
    },
    {
     "name": "stdout",
     "output_type": "stream",
     "text": [
      "Epoch: 31  Validation Loss: 1.544629\n"
     ]
    },
    {
     "name": "stderr",
     "output_type": "stream",
     "text": [
      "Epoch 32: 100%|██████████| 750/750 [00:20<00:00, 36.81batch/s, train_accuracy=98, train_loss=1.48]\n"
     ]
    },
    {
     "name": "stdout",
     "output_type": "stream",
     "text": [
      "Epoch: 32  Validation Loss: 1.545000\n"
     ]
    },
    {
     "name": "stderr",
     "output_type": "stream",
     "text": [
      "Epoch 33: 100%|██████████| 750/750 [00:19<00:00, 37.89batch/s, train_accuracy=98, train_loss=1.48]\n"
     ]
    },
    {
     "name": "stdout",
     "output_type": "stream",
     "text": [
      "Epoch: 33  Validation Loss: 1.549018\n"
     ]
    },
    {
     "name": "stderr",
     "output_type": "stream",
     "text": [
      "Epoch 34: 100%|██████████| 750/750 [00:20<00:00, 36.57batch/s, train_accuracy=98, train_loss=1.48]\n"
     ]
    },
    {
     "name": "stdout",
     "output_type": "stream",
     "text": [
      "Epoch: 34  Validation Loss: 1.542539\n",
      "Validation loss decreased (1.544405 --> 1.542539).  Saving model ...\n"
     ]
    },
    {
     "name": "stderr",
     "output_type": "stream",
     "text": [
      "Epoch 35: 100%|██████████| 750/750 [00:20<00:00, 37.42batch/s, train_accuracy=94, train_loss=1.53]\n"
     ]
    },
    {
     "name": "stdout",
     "output_type": "stream",
     "text": [
      "Epoch: 35  Validation Loss: 1.542456\n",
      "Validation loss decreased (1.542539 --> 1.542456).  Saving model ...\n"
     ]
    },
    {
     "name": "stderr",
     "output_type": "stream",
     "text": [
      "Epoch 36: 100%|██████████| 750/750 [00:20<00:00, 36.78batch/s, train_accuracy=98, train_loss=1.48]\n"
     ]
    },
    {
     "name": "stdout",
     "output_type": "stream",
     "text": [
      "Epoch: 36  Validation Loss: 1.544625\n"
     ]
    },
    {
     "name": "stderr",
     "output_type": "stream",
     "text": [
      "Epoch 37: 100%|██████████| 750/750 [00:20<00:00, 37.41batch/s, train_accuracy=97, train_loss=1.49]\n"
     ]
    },
    {
     "name": "stdout",
     "output_type": "stream",
     "text": [
      "Epoch: 37  Validation Loss: 1.544894\n"
     ]
    },
    {
     "name": "stderr",
     "output_type": "stream",
     "text": [
      "Epoch 38: 100%|██████████| 750/750 [00:20<00:00, 36.99batch/s, train_accuracy=95, train_loss=1.51]\n"
     ]
    },
    {
     "name": "stdout",
     "output_type": "stream",
     "text": [
      "Epoch: 38  Validation Loss: 1.545715\n"
     ]
    },
    {
     "name": "stderr",
     "output_type": "stream",
     "text": [
      "Epoch 39: 100%|██████████| 750/750 [00:19<00:00, 38.02batch/s, train_accuracy=95, train_loss=1.51]\n"
     ]
    },
    {
     "name": "stdout",
     "output_type": "stream",
     "text": [
      "Epoch: 39  Validation Loss: 1.545886\n"
     ]
    },
    {
     "name": "stderr",
     "output_type": "stream",
     "text": [
      "Epoch 40: 100%|██████████| 750/750 [00:19<00:00, 38.24batch/s, train_accuracy=94, train_loss=1.53]\n"
     ]
    },
    {
     "name": "stdout",
     "output_type": "stream",
     "text": [
      "Epoch: 40  Validation Loss: 1.546900\n"
     ]
    },
    {
     "name": "stderr",
     "output_type": "stream",
     "text": [
      "Epoch 41: 100%|██████████| 750/750 [00:20<00:00, 37.18batch/s, train_accuracy=95, train_loss=1.51]\n"
     ]
    },
    {
     "name": "stdout",
     "output_type": "stream",
     "text": [
      "Epoch: 41  Validation Loss: 1.544221\n"
     ]
    },
    {
     "name": "stderr",
     "output_type": "stream",
     "text": [
      "Epoch 42: 100%|██████████| 750/750 [00:21<00:00, 35.48batch/s, train_accuracy=94, train_loss=1.52]\n"
     ]
    },
    {
     "name": "stdout",
     "output_type": "stream",
     "text": [
      "Epoch: 42  Validation Loss: 1.548459\n"
     ]
    },
    {
     "name": "stderr",
     "output_type": "stream",
     "text": [
      "Epoch 43: 100%|██████████| 750/750 [00:20<00:00, 37.16batch/s, train_accuracy=95, train_loss=1.5]\n"
     ]
    },
    {
     "name": "stdout",
     "output_type": "stream",
     "text": [
      "Epoch: 43  Validation Loss: 1.543466\n"
     ]
    },
    {
     "name": "stderr",
     "output_type": "stream",
     "text": [
      "Epoch 44: 100%|██████████| 750/750 [00:19<00:00, 37.63batch/s, train_accuracy=95, train_loss=1.51]\n"
     ]
    },
    {
     "name": "stdout",
     "output_type": "stream",
     "text": [
      "Epoch: 44  Validation Loss: 1.543001\n"
     ]
    },
    {
     "name": "stderr",
     "output_type": "stream",
     "text": [
      "Epoch 45: 100%|██████████| 750/750 [00:19<00:00, 37.93batch/s, train_accuracy=98, train_loss=1.48]\n"
     ]
    },
    {
     "name": "stdout",
     "output_type": "stream",
     "text": [
      "Epoch: 45  Validation Loss: 1.545126\n"
     ]
    },
    {
     "name": "stderr",
     "output_type": "stream",
     "text": [
      "Epoch 46: 100%|██████████| 750/750 [00:19<00:00, 37.89batch/s, train_accuracy=95, train_loss=1.51]\n"
     ]
    },
    {
     "name": "stdout",
     "output_type": "stream",
     "text": [
      "Epoch: 46  Validation Loss: 1.542585\n"
     ]
    },
    {
     "name": "stderr",
     "output_type": "stream",
     "text": [
      "Epoch 47: 100%|██████████| 750/750 [00:20<00:00, 37.00batch/s, train_accuracy=100, train_loss=1.46]\n"
     ]
    },
    {
     "name": "stdout",
     "output_type": "stream",
     "text": [
      "Epoch: 47  Validation Loss: 1.540693\n",
      "Validation loss decreased (1.542456 --> 1.540693).  Saving model ...\n"
     ]
    },
    {
     "name": "stderr",
     "output_type": "stream",
     "text": [
      "Epoch 48: 100%|██████████| 750/750 [00:20<00:00, 36.26batch/s, train_accuracy=98, train_loss=1.48]\n"
     ]
    },
    {
     "name": "stdout",
     "output_type": "stream",
     "text": [
      "Epoch: 48  Validation Loss: 1.545634\n"
     ]
    },
    {
     "name": "stderr",
     "output_type": "stream",
     "text": [
      "Epoch 49: 100%|██████████| 750/750 [00:20<00:00, 36.92batch/s, train_accuracy=94, train_loss=1.52]\n"
     ]
    },
    {
     "name": "stdout",
     "output_type": "stream",
     "text": [
      "Epoch: 49  Validation Loss: 1.544342\n"
     ]
    },
    {
     "name": "stderr",
     "output_type": "stream",
     "text": [
      "Epoch 50: 100%|██████████| 750/750 [00:20<00:00, 37.37batch/s, train_accuracy=100, train_loss=1.46]\n"
     ]
    },
    {
     "name": "stdout",
     "output_type": "stream",
     "text": [
      "Epoch: 50  Validation Loss: 1.541348\n"
     ]
    }
   ],
   "source": [
    "best_model, train_losses, val_losses = train_model(cnn_model, train_dataloader, val_dataloader, epochs, optimizer, criterion, device, save_path)"
   ]
  },
  {
   "cell_type": "code",
   "execution_count": 130,
   "metadata": {
    "colab": {
     "base_uri": "https://localhost:8080/",
     "height": 513
    },
    "id": "1VIIMDdGUgwZ",
    "outputId": "d5c505a2-1272-4ea8-f17f-f5b63d365994"
   },
   "outputs": [
    {
     "data": {
      "image/png": "[encoded data removed]",
      "text/plain": [
       "<Figure size 864x576 with 1 Axes>"
      ]
     },
     "metadata": {},
     "output_type": "display_data"
    }
   ],
   "source": [
    "# plot losses\n",
    "plt.subplots(figsize=(12, 8))\n",
    "sns.set_style(\"dark\")\n",
    "sns.lineplot(data=val_losses,label=\"Validation Loss\")\n",
    "sns.lineplot(data=np.asarray(train_losses),label=\"Train Loss\").set(title=\"loss change during training\", xlabel=\"epoch\", ylabel=\"loss\")\n",
    "plt.legend()\n",
    "plt.show()"
   ]
  },
  {
   "cell_type": "markdown",
   "metadata": {
    "id": "5fvHlCSjK5Nk",
    "papermill": {
     "duration": 0.035134,
     "end_time": "2020-11-06T00:19:25.651361",
     "exception": false,
     "start_time": "2020-11-06T00:19:25.616227",
     "status": "completed"
    },
    "tags": []
   },
   "source": [
    "# Prediction on Test Data"
   ]
  },
  {
   "cell_type": "code",
   "execution_count": 131,
   "metadata": {
    "id": "Apy7kcRI3-ei"
   },
   "outputs": [],
   "source": [
    "def predict(images, model):\n",
    "    model.eval()\n",
    "    _, predicted = torch.max(model(images), 1)\n",
    "    return predicted"
   ]
  },
  {
   "cell_type": "markdown",
   "metadata": {
    "id": "-4B6q4vC39ry"
   },
   "source": [
    "**Accuracy Result on Test Data**"
   ]
  },
  {
   "cell_type": "code",
   "execution_count": 133,
   "metadata": {
    "colab": {
     "base_uri": "https://localhost:8080/"
    },
    "execution": {
     "iopub.execute_input": "2020-11-06T00:19:26.514739Z",
     "iopub.status.busy": "2020-11-06T00:19:26.513979Z",
     "iopub.status.idle": "2020-11-06T00:19:31.836462Z",
     "shell.execute_reply": "2020-11-06T00:19:31.837205Z"
    },
    "id": "N_QdkLveK5No",
    "outputId": "f4a903a1-18a5-40ec-901c-06fbe09ad4e5",
    "papermill": {
     "duration": 5.37107,
     "end_time": "2020-11-06T00:19:31.837359",
     "exception": false,
     "start_time": "2020-11-06T00:19:26.466289",
     "status": "completed"
    },
    "tags": []
   },
   "outputs": [
    {
     "name": "stdout",
     "output_type": "stream",
     "text": [
      "Accuracy of the network on the 10000 test images: 91 %\n"
     ]
    }
   ],
   "source": [
    "correct = 0\n",
    "total = 0\n",
    "y_pred_list = []\n",
    "y_true_list = []\n",
    "with torch.no_grad():\n",
    "    for data in test_dataloader:\n",
    "        images, labels = data\n",
    "        predicted = predict(images.to(device), best_model)\n",
    "        for x in predicted.cpu().numpy(): y_pred_list.append(x)\n",
    "        for x in labels.cpu().numpy(): y_true_list.append(x)\n",
    "        total += labels.size(0)\n",
    "        correct += (predicted.cpu() == labels).sum().item()\n",
    "print('Accuracy of the network on the 10000 test images: %d %%' % (100 * correct / total))"
   ]
  },
  {
   "cell_type": "markdown",
   "metadata": {
    "id": "D8b8n56jK5No",
    "papermill": {
     "duration": 0.047911,
     "end_time": "2020-11-06T00:19:31.934242",
     "exception": false,
     "start_time": "2020-11-06T00:19:31.886331",
     "status": "completed"
    },
    "tags": []
   },
   "source": [
    "**Classification report**"
   ]
  },
  {
   "cell_type": "code",
   "execution_count": 134,
   "metadata": {
    "colab": {
     "base_uri": "https://localhost:8080/"
    },
    "id": "pXpTYXeOdE10",
    "outputId": "09445f88-8e74-4c96-9ec6-525ead289e8a"
   },
   "outputs": [
    {
     "name": "stdout",
     "output_type": "stream",
     "text": [
      "              precision    recall  f1-score   support\n",
      "\n",
      " T-shirt/top       0.84      0.91      0.87      1000\n",
      "     Trouser       0.99      0.98      0.99      1000\n",
      "    Pullover       0.87      0.87      0.87      1000\n",
      "       Dress       0.91      0.91      0.91      1000\n",
      "        Coat       0.88      0.86      0.87      1000\n",
      "      Sandal       0.98      0.97      0.98      1000\n",
      "       Shirt       0.79      0.72      0.75      1000\n",
      "     Sneaker       0.96      0.96      0.96      1000\n",
      "         Bag       0.97      0.99      0.98      1000\n",
      "  Ankle boot       0.96      0.97      0.96      1000\n",
      "\n",
      "    accuracy                           0.91     10000\n",
      "   macro avg       0.91      0.91      0.91     10000\n",
      "weighted avg       0.91      0.91      0.91     10000\n",
      "\n"
     ]
    }
   ],
   "source": [
    "print(classification_report(y_true_list, y_pred_list, target_names=classes))"
   ]
  },
  {
   "cell_type": "markdown",
   "metadata": {
    "id": "L5-11WQI2_em"
   },
   "source": [
    "**Displaying a random set of images from test data**"
   ]
  },
  {
   "cell_type": "code",
   "execution_count": 135,
   "metadata": {
    "colab": {
     "base_uri": "https://localhost:8080/",
     "height": 513
    },
    "id": "rVr_w4_80rJI",
    "outputId": "2119c65f-c85f-422c-d431-243a74a054e9"
   },
   "outputs": [
    {
     "data": {
      "image/png": "[encoded data removed]",
      "text/plain": [
       "<Figure size 1080x504 with 15 Axes>"
      ]
     },
     "metadata": {},
     "output_type": "display_data"
    }
   ],
   "source": [
    "dataiter = iter(test_dataloader)\n",
    "images, labels = next(dataiter)\n",
    "predicted=predict(images.to(device),cnn_model)\n",
    "\n",
    "fig, axes = plt.subplots(nrows=3, ncols=5, figsize=(15, 7), subplot_kw={'xticks': [], 'yticks': []})\n",
    "for i,ax in zip(range(0,16),axes.flat):\n",
    "    img,label=images[i],labels[i]\n",
    "    pred=predicted[i]\n",
    "    ax.imshow(img.permute(1, 2, 0))\n",
    "    ax.set_title(f\"True: {classes[label]}\\n Predicted: {classes[pred]}\")\n",
    "\n",
    "plt.tight_layout()\n",
    "plt.show()"
   ]
  }
 ],
 "metadata": {
  "accelerator": "GPU",
  "colab": {
   "provenance": []
  },
  "gpuClass": "standard",
  "kernelspec": {
   "display_name": "Python 3 (ipykernel)",
   "language": "python",
   "name": "python3"
  },
  "language_info": {
   "codemirror_mode": {
    "name": "ipython",
    "version": 3
   },
   "file_extension": ".py",
   "mimetype": "text/x-python",
   "name": "python",
   "nbconvert_exporter": "python",
   "pygments_lexer": "ipython3",
   "version": "3.9.16"
  },
  "papermill": {
   "duration": 247.72117,
   "end_time": "2020-11-06T00:19:37.463107",
   "environment_variables": {},
   "exception": null,
   "input_path": "__notebook__.ipynb",
   "output_path": "__notebook__.ipynb",
   "parameters": {},
   "start_time": "2020-11-06T00:15:29.741937",
   "version": "2.1.0"
  }
 },
 "nbformat": 4,
 "nbformat_minor": 1
}
